{
 "cells": [
  {
   "cell_type": "markdown",
   "id": "4193a91b",
   "metadata": {},
   "source": [
    "## TPC8: Teste de aferição\n",
    "\n",
    "Resolva os problemas apresentados a seguir."
   ]
  },
  {
   "cell_type": "markdown",
   "id": "ecb162bd",
   "metadata": {},
   "source": [
    "### tpc-1. Especifique as seguintes listas em compreensão:"
   ]
  },
  {
   "cell_type": "markdown",
   "id": "4e758271",
   "metadata": {},
   "source": [
    "#### a) Lista formada pelos elementos que não são comuns às duas listas:"
   ]
  },
  {
   "cell_type": "code",
   "execution_count": 2,
   "id": "1fe48423",
   "metadata": {},
   "outputs": [],
   "source": [
    "lista1 = [1, 2, 3, 4, 5]\n",
    "lista2 = [4, 5, 6, 7, 8]  \n",
    "comuns = [...]\n",
    "# Resultado esperado: [1,2,3,6,7,8]"
   ]
  },
  {
   "cell_type": "code",
   "execution_count": 3,
   "metadata": {},
   "outputs": [
    {
     "name": "stdout",
     "output_type": "stream",
     "text": [
      "[1, 2, 3, 6, 7, 8]\n"
     ]
    }
   ],
   "source": [
    "#Solução:\n",
    "lista1 = [1, 2, 3, 4, 5]\n",
    "lista2 = [4, 5, 6, 7, 8]  \n",
    "comuns = []\n",
    "for elemento in lista1:\n",
    "    if elemento not in lista2:\n",
    "        comuns.append(elemento)\n",
    "for elemento in lista2:\n",
    "    if elemento not in lista1:\n",
    "        comuns.append(elemento)\n",
    "print(comuns)"
   ]
  },
  {
   "cell_type": "markdown",
   "id": "0ded2f03",
   "metadata": {},
   "source": [
    "#### b) Lista formada pelas palavras do texto compostas por mais de 3 letras:"
   ]
  },
  {
   "cell_type": "code",
   "execution_count": 4,
   "id": "4ae7f5d0",
   "metadata": {},
   "outputs": [],
   "source": [
    "texto = \"\"\"Vivia há já não poucos anos algures num concelho do Ribatejo \n",
    "    um pequeno lavrador e negociante de gado chamado Manuel Peres Vigário\"\"\"\n",
    "lista = [...]\n",
    "# Resultado esperado: ['Vivia', 'poucos', 'anos', 'algures', 'concelho', ...]"
   ]
  },
  {
   "cell_type": "code",
   "execution_count": 5,
   "metadata": {},
   "outputs": [
    {
     "name": "stdout",
     "output_type": "stream",
     "text": [
      "['Vivia', 'poucos', 'anos', 'algures', 'concelho', 'Ribatejo', 'pequeno', 'lavrador', 'negociante', 'gado', 'chamado', 'Manuel', 'Peres', 'Vigário']\n"
     ]
    }
   ],
   "source": [
    "texto = \"\"\"Vivia há já não poucos anos algures num concelho do Ribatejo \n",
    "    um pequeno lavrador e negociante de gado chamado Manuel Peres Vigário\"\"\"\n",
    "lista = []\n",
    "x = texto.split (\" \")\n",
    "for palavra in x:\n",
    "    if len(palavra) > 3:\n",
    "        lista.append(palavra)\n",
    "print(lista)\n"
   ]
  },
  {
   "cell_type": "markdown",
   "id": "ecf72afd",
   "metadata": {},
   "source": [
    "#### c) Lista formada por pares do tipo (índice, valor) com os valores da lista dada:"
   ]
  },
  {
   "cell_type": "code",
   "execution_count": 6,
   "id": "876b2cc3",
   "metadata": {},
   "outputs": [],
   "source": [
    "lista = ['anaconda', 'burro', 'cavalo', 'macaco']\n",
    "listaRes = [...]\n",
    "# Resultado esperado: [(1,'anaconda'), (2,'burro'), (3,'cavalo'), (4,'macaco')]"
   ]
  },
  {
   "cell_type": "code",
   "execution_count": 7,
   "metadata": {},
   "outputs": [
    {
     "name": "stdout",
     "output_type": "stream",
     "text": [
      "['1,anaconda', '2,burro', '3,cavalo', '4,macaco']\n"
     ]
    }
   ],
   "source": [
    "lista = ['anaconda', 'burro', 'cavalo', 'macaco']\n",
    "listaRes = []\n",
    "x = 1\n",
    "for palavra in lista:\n",
    "    listaRes.append(str(x) + \",\" + palavra)\n",
    "    x = x + 1\n",
    "print(listaRes)"
   ]
  },
  {
   "cell_type": "markdown",
   "id": "28cb3dc4",
   "metadata": {},
   "source": [
    "### tpc-2. À semelhança do que foi feito nas aulas, realize as seguintes tarefas:"
   ]
  },
  {
   "cell_type": "markdown",
   "id": "5d3f1dbe",
   "metadata": {},
   "source": [
    "#### a) Especifique uma função que dada uma string e uma substring não vazia, calcula  o número de vezes em que a substring aparece na string, sem que haja sobreposição de substrings:"
   ]
  },
  {
   "cell_type": "code",
   "execution_count": 9,
   "id": "4458c7bc",
   "metadata": {},
   "outputs": [
    {
     "name": "stdout",
     "output_type": "stream",
     "text": [
      "2\n",
      "1\n",
      "0\n"
     ]
    }
   ],
   "source": [
    "def strCount(s, subs):\n",
    "    res = 0\n",
    "    index = 0\n",
    "    while index < len(s):\n",
    "        index = s.find(subs, index)\n",
    "        if index == -1:\n",
    "            break\n",
    "        res = res + 1\n",
    "        index = index + len(subs)\n",
    "\n",
    "    return res\n",
    "\n",
    "print(strCount(\"catcowcat\", \"cat\")) # --> 2\n",
    "print(strCount(\"catcowcat\", \"cow\")) # --> 1\n",
    "print(strCount(\"catcowcat\", \"dog\")) # --> 0"
   ]
  },
  {
   "cell_type": "markdown",
   "id": "e6db31d7",
   "metadata": {},
   "source": [
    "#### b) Especifique uma função que recebe uma lista de números inteiros positivos e devolve o menor produto que for possível calcular multiplicando os 3 menores inteiros da lista:"
   ]
  },
  {
   "cell_type": "code",
   "execution_count": 10,
   "id": "2b5ad344",
   "metadata": {},
   "outputs": [
    {
     "name": "stdout",
     "output_type": "stream",
     "text": [
      "168\n"
     ]
    }
   ],
   "source": [
    "def produtoM3(lista):\n",
    "    lista1 = sorted(lista)\n",
    "    return  lista1[0]* lista1[1]* lista1[2]\n",
    "\n",
    "print(produtoM3([12,3,7,10,12,8,9]))\n",
    "# Resultado esperado: 168 = 3 * 7 * 8"
   ]
  },
  {
   "cell_type": "markdown",
   "id": "6698b337",
   "metadata": {},
   "source": [
    "#### c) Especifique uma função que dado um número inteiro positivo, repetidamente adiciona os seus dígitos até obter apenas um dígito que é retornado como resultado:"
   ]
  },
  {
   "cell_type": "code",
   "execution_count": 12,
   "id": "54cef309",
   "metadata": {},
   "outputs": [
    {
     "data": {
      "text/plain": [
       "5"
      ]
     },
     "execution_count": 12,
     "metadata": {},
     "output_type": "execute_result"
    }
   ],
   "source": [
    "# Input: 38\n",
    "# Output: 2\n",
    "# Explicação: 3 + 8 = 11, 1 + 1 = 2.\n",
    "\n",
    "# Input: 777\n",
    "# Output: 3\n",
    "# Explicação: 7 + 7 + 7 = 21, 2 + 1 = 3.\n",
    "\n",
    "def reduxInt(n):\n",
    "    \n",
    "    while n>10:\n",
    "        soma = 0\n",
    "        for digito in str(n):\n",
    "            soma += int(digito)\n",
    "        n = soma\n",
    "    return n\n",
    "reduxInt(779)\n"
   ]
  },
  {
   "cell_type": "markdown",
   "id": "4a47b6e8",
   "metadata": {},
   "source": [
    "#### d) Especifique uma função que recebe duas strings, `string1` e `string2`, e devolve o índice da primeira ocorrência de `string2` em `string1`, caso não ocorra nenhuma vez a função deverá retornar `-1`:"
   ]
  },
  {
   "cell_type": "code",
   "execution_count": 13,
   "id": "f0f4c2a8",
   "metadata": {},
   "outputs": [
    {
     "data": {
      "text/plain": [
       "16"
      ]
     },
     "execution_count": 13,
     "metadata": {},
     "output_type": "execute_result"
    }
   ],
   "source": [
    "# Invocação: indexOf(\"Hoje está um belo dia de sol!\", \"belo\")\n",
    "# Resultado: 13\n",
    "\n",
    "# Invocação: indexOf(\"Hoje está um belo dia de sol!\", \"chuva\")\n",
    "# Resultado: -1\n",
    "\n",
    "def myIndexOf(s1, s2):\n",
    "    for i in range(len(s1) - len(s2) + 1):\n",
    "        if s1[i:i+len(s2)] == s2:\n",
    "            return i\n",
    "    return -1\n",
    "    \n",
    "myIndexOf(\"Hamilton is the goat\",\"goat\")"
   ]
  },
  {
   "cell_type": "markdown",
   "id": "7cd572fc",
   "metadata": {},
   "source": [
    "### tpc-3. A Rede Social\n",
    "\n",
    "Considere que a informação sobre uma rede social está armazenada numa lista de dicionários.\n",
    "\n",
    "Cada dicionário, correspondente a um _post_ e tem chaves `id`, `conteudo`, `autor`, `dataCriacao` e `comentarios`.\n",
    "Por sua vez, `comentarios` é uma lista de dicionários com chaves `comentario` e `autor`.\n",
    "\n",
    "Considere o seguinte exemplo:\n",
    "\n",
    "``` \n",
    "    MyFaceBook = [{\n",
    "        'id': 'p1', \n",
    "        'conteudo': 'A tarefa de avaliação é talvez a mais ingrata das tarefas que um professor\n",
    "    tem de realizar...', \n",
    "        'autor': 'jcr', \n",
    "        'dataCriacao': '2023-07-20', \n",
    "        'comentarios': [\n",
    "            {\n",
    "                'comentario': 'Completamente de acordo...',\n",
    "                'autor': 'prh'\n",
    "            },\n",
    "            {\n",
    "                'comentario': 'Mas há quem goste...',\n",
    "                'autor': 'jj'\n",
    "            }\n",
    "        ]},\n",
    "        {\n",
    "            'id': 'p2',\n",
    "            ...\n",
    "        },\n",
    "        ...\n",
    "        ]\n",
    "```"
   ]
  },
  {
   "cell_type": "markdown",
   "id": "89afc758",
   "metadata": {},
   "source": [
    "Defina as seguintes funções de manipulação e consulta da rede social:"
   ]
  },
  {
   "cell_type": "code",
   "execution_count": 14,
   "metadata": {},
   "outputs": [],
   "source": [
    "MyFaceBook = [{\n",
    "        'id': 'p1', \n",
    "        'conteudo': 'A tarefa de avaliação é talvez a mais ingrata das tarefas que um professor tem de realizar...', \n",
    "        'autor': 'jcr', \n",
    "        'dataCriacao': '2023-07-20', \n",
    "        'comentarios': [\n",
    "            {\n",
    "                'comentario': 'Completamente de acordo...',\n",
    "                'autor': 'prh'\n",
    "            },\n",
    "            {\n",
    "                'comentario': 'Mas há quem goste...',\n",
    "                'autor': 'jj'\n",
    "            }\n",
    "        ]},\n",
    "        {\n",
    "            'id': 'p2',\n",
    "            'conteudo': 'Vai chover amanhã', \n",
    "        'autor': 'jessica', \n",
    "        'dataCriacao': '2023-07-20', \n",
    "        'comentarios': [\n",
    "            {\n",
    "                'comentario': 'Pois, estamos em Braga',\n",
    "                'autor': 'laura'\n",
    "            },\n",
    "            {\n",
    "                'comentario': 'Já houve anos piores',\n",
    "                'autor': 'maria'\n",
    "            }\n",
    "        ]}\n",
    "        ]"
   ]
  },
  {
   "cell_type": "markdown",
   "id": "1aec6cd8",
   "metadata": {},
   "source": [
    "#### a) `quantosPost`, que indica quantos posts estão registados:"
   ]
  },
  {
   "cell_type": "code",
   "execution_count": 15,
   "id": "39a813ee",
   "metadata": {},
   "outputs": [
    {
     "data": {
      "text/plain": [
       "2"
      ]
     },
     "execution_count": 15,
     "metadata": {},
     "output_type": "execute_result"
    }
   ],
   "source": [
    "def quantosPost(redeSocial):\n",
    "    \n",
    "    return len(redeSocial)\n",
    "quantosPost(MyFaceBook)"
   ]
  },
  {
   "cell_type": "markdown",
   "id": "2156a0c8",
   "metadata": {},
   "source": [
    "#### b)  `postsAutor`, que devolve a lista de posts de um determinado autor:"
   ]
  },
  {
   "cell_type": "code",
   "execution_count": 16,
   "id": "8a5a2a41",
   "metadata": {},
   "outputs": [
    {
     "data": {
      "text/plain": [
       "[{'id': 'p1',\n",
       "  'conteudo': 'A tarefa de avaliação é talvez a mais ingrata das tarefas que um professor tem de realizar...',\n",
       "  'autor': 'jcr',\n",
       "  'dataCriacao': '2023-07-20',\n",
       "  'comentarios': [{'comentario': 'Completamente de acordo...', 'autor': 'prh'},\n",
       "   {'comentario': 'Mas há quem goste...', 'autor': 'jj'}]}]"
      ]
     },
     "execution_count": 16,
     "metadata": {},
     "output_type": "execute_result"
    }
   ],
   "source": [
    "def postsAutor(redeSocial, autor):\n",
    "    lista=[]\n",
    "    for post in redeSocial:\n",
    "        if post[\"autor\"]==autor:\n",
    "            lista.append(post)\n",
    "    return lista\n",
    "postsAutor(MyFaceBook,\"jcr\")"
   ]
  },
  {
   "cell_type": "markdown",
   "id": "12f9126b",
   "metadata": {},
   "source": [
    "#### c) `autores`, que devolve a lista de autores de posts ordenada alfabeticamente:"
   ]
  },
  {
   "cell_type": "code",
   "execution_count": 17,
   "id": "d9dfe30a",
   "metadata": {},
   "outputs": [
    {
     "data": {
      "text/plain": [
       "['jcr', 'jessica']"
      ]
     },
     "execution_count": 17,
     "metadata": {},
     "output_type": "execute_result"
    }
   ],
   "source": [
    "def autores(redeSocial):\n",
    "    lista = []\n",
    "    for post in redeSocial:\n",
    "        lista.append(post[\"autor\"])\n",
    "\n",
    "    return  lista\n",
    "autores(MyFaceBook) "
   ]
  },
  {
   "cell_type": "markdown",
   "id": "1a0f760b",
   "metadata": {},
   "source": [
    "#### d) `insPost`, que acrescenta um novo post à rede social a partir dos parâmetros recebidos e devolve a nova rede social. \n",
    "    \n",
    "O campo `id` devrá ser calculado a partir dos já existentes, por exemplo, se a rede tiver posts com id `p1`, `p2` e `p3`, o novo `id` deverá ser `p4`."
   ]
  },
  {
   "cell_type": "code",
   "execution_count": 18,
   "id": "a00c85e3",
   "metadata": {},
   "outputs": [
    {
     "ename": "ValueError",
     "evalue": "not enough values to unpack (expected 2, got 1)",
     "output_type": "error",
     "traceback": [
      "\u001b[1;31m---------------------------------------------------------------------------\u001b[0m",
      "\u001b[1;31mValueError\u001b[0m                                Traceback (most recent call last)",
      "\u001b[1;32mc:\\Users\\jessi\\AppData\\Local\\Temp\\f2da0bc9-b8b6-4be8-bfc6-10bddc97a2c2_AulaP8-20231030.ipynb (1).zip.2c2\\AulaP8-20231030.ipynb Cell 31\u001b[0m line \u001b[0;36m1\n\u001b[0;32m     <a href='vscode-notebook-cell:/c%3A/Users/jessi/AppData/Local/Temp/f2da0bc9-b8b6-4be8-bfc6-10bddc97a2c2_AulaP8-20231030.ipynb%20%281%29.zip.2c2/AulaP8-20231030.ipynb#X41sZmlsZQ%3D%3D?line=14'>15</a>\u001b[0m     novopost\u001b[39m=\u001b[39m{\u001b[39m\"\u001b[39m\u001b[39mid\u001b[39m\u001b[39m\"\u001b[39m:idnovo,\u001b[39m\"\u001b[39m\u001b[39mconteudo\u001b[39m\u001b[39m\"\u001b[39m:conteudo,\u001b[39m\"\u001b[39m\u001b[39mautor\u001b[39m\u001b[39m\"\u001b[39m:autor,\u001b[39m\"\u001b[39m\u001b[39mdataCriacao\u001b[39m\u001b[39m\"\u001b[39m:dataCriacao,\u001b[39m\"\u001b[39m\u001b[39mcomentarios\u001b[39m\u001b[39m\"\u001b[39m:comentarios}\n\u001b[0;32m     <a href='vscode-notebook-cell:/c%3A/Users/jessi/AppData/Local/Temp/f2da0bc9-b8b6-4be8-bfc6-10bddc97a2c2_AulaP8-20231030.ipynb%20%281%29.zip.2c2/AulaP8-20231030.ipynb#X41sZmlsZQ%3D%3D?line=15'>16</a>\u001b[0m     redeSocial\u001b[39m.\u001b[39mappend(novopost)\n\u001b[1;32m---> <a href='vscode-notebook-cell:/c%3A/Users/jessi/AppData/Local/Temp/f2da0bc9-b8b6-4be8-bfc6-10bddc97a2c2_AulaP8-20231030.ipynb%20%281%29.zip.2c2/AulaP8-20231030.ipynb#X41sZmlsZQ%3D%3D?line=16'>17</a>\u001b[0m insPost(MyFaceBook,\u001b[39minput\u001b[39;49m(\u001b[39m\"\u001b[39;49m\u001b[39mEscreva o contúdo do seu post...\u001b[39;49m\u001b[39m\"\u001b[39;49m),\u001b[39minput\u001b[39;49m(\u001b[39m\"\u001b[39;49m\u001b[39mEscreva o nome do autor...\u001b[39;49m\u001b[39m\"\u001b[39;49m),\u001b[39minput\u001b[39;49m(\u001b[39m\"\u001b[39;49m\u001b[39mInsira a data do post no seguinte formato: AAAA-MM-DD\u001b[39;49m\u001b[39m\"\u001b[39;49m),\u001b[39m\"\u001b[39;49m\u001b[39mcomentarios\u001b[39;49m\u001b[39m\"\u001b[39;49m)\n\u001b[0;32m     <a href='vscode-notebook-cell:/c%3A/Users/jessi/AppData/Local/Temp/f2da0bc9-b8b6-4be8-bfc6-10bddc97a2c2_AulaP8-20231030.ipynb%20%281%29.zip.2c2/AulaP8-20231030.ipynb#X41sZmlsZQ%3D%3D?line=17'>18</a>\u001b[0m \u001b[39mprint\u001b[39m(MyFaceBook)\n",
      "\u001b[1;32mc:\\Users\\jessi\\AppData\\Local\\Temp\\f2da0bc9-b8b6-4be8-bfc6-10bddc97a2c2_AulaP8-20231030.ipynb (1).zip.2c2\\AulaP8-20231030.ipynb Cell 31\u001b[0m line \u001b[0;36m1\n\u001b[0;32m     <a href='vscode-notebook-cell:/c%3A/Users/jessi/AppData/Local/Temp/f2da0bc9-b8b6-4be8-bfc6-10bddc97a2c2_AulaP8-20231030.ipynb%20%281%29.zip.2c2/AulaP8-20231030.ipynb#X41sZmlsZQ%3D%3D?line=9'>10</a>\u001b[0m y\u001b[39m=\u001b[39m\u001b[39minput\u001b[39m(\u001b[39m\"\u001b[39m\u001b[39mInsira o comentário e respetivo autor separados por virgula...Quando já não quiser adicionar novos comentários insira \u001b[39m\u001b[39m'\u001b[39m\u001b[39m0\u001b[39m\u001b[39m'\u001b[39m\u001b[39m\"\u001b[39m)\n\u001b[0;32m     <a href='vscode-notebook-cell:/c%3A/Users/jessi/AppData/Local/Temp/f2da0bc9-b8b6-4be8-bfc6-10bddc97a2c2_AulaP8-20231030.ipynb%20%281%29.zip.2c2/AulaP8-20231030.ipynb#X41sZmlsZQ%3D%3D?line=10'>11</a>\u001b[0m \u001b[39mif\u001b[39;00m y\u001b[39m!=\u001b[39m\u001b[39m\"\u001b[39m\u001b[39m0\u001b[39m\u001b[39m\"\u001b[39m:\n\u001b[1;32m---> <a href='vscode-notebook-cell:/c%3A/Users/jessi/AppData/Local/Temp/f2da0bc9-b8b6-4be8-bfc6-10bddc97a2c2_AulaP8-20231030.ipynb%20%281%29.zip.2c2/AulaP8-20231030.ipynb#X41sZmlsZQ%3D%3D?line=11'>12</a>\u001b[0m     comment,autorComment\u001b[39m=\u001b[39my\u001b[39m.\u001b[39msplit(\u001b[39m\"\u001b[39m\u001b[39m,\u001b[39m\u001b[39m\"\u001b[39m)\n\u001b[0;32m     <a href='vscode-notebook-cell:/c%3A/Users/jessi/AppData/Local/Temp/f2da0bc9-b8b6-4be8-bfc6-10bddc97a2c2_AulaP8-20231030.ipynb%20%281%29.zip.2c2/AulaP8-20231030.ipynb#X41sZmlsZQ%3D%3D?line=12'>13</a>\u001b[0m     comentario\u001b[39m=\u001b[39m{\u001b[39m\"\u001b[39m\u001b[39mcomentário\u001b[39m\u001b[39m\"\u001b[39m:comment,\u001b[39m\"\u001b[39m\u001b[39mautor\u001b[39m\u001b[39m\"\u001b[39m:autorComment}\n\u001b[0;32m     <a href='vscode-notebook-cell:/c%3A/Users/jessi/AppData/Local/Temp/f2da0bc9-b8b6-4be8-bfc6-10bddc97a2c2_AulaP8-20231030.ipynb%20%281%29.zip.2c2/AulaP8-20231030.ipynb#X41sZmlsZQ%3D%3D?line=13'>14</a>\u001b[0m     comentarios\u001b[39m.\u001b[39mappend(comentario)\n",
      "\u001b[1;31mValueError\u001b[0m: not enough values to unpack (expected 2, got 1)"
     ]
    }
   ],
   "source": [
    "def insPost(redeSocial, conteudo, autor, dataCriacao, comentarios):\n",
    "    novopost={}\n",
    "    \n",
    "    ultimoPost=redeSocial[-1]\n",
    "    id_1=ultimoPost[\"id\"]\n",
    "    idnovo=\"p\"+f\"{int(id_1[1])+1}\"\n",
    "    y=-1\n",
    "    comentarios=[]\n",
    "    while y!=\"0\":\n",
    "        y=input(\"Insira o comentário e respetivo autor separados por virgula...Quando já não quiser adicionar novos comentários insira '0'\")\n",
    "        if y!=\"0\":\n",
    "            comment,autorComment=y.split(\",\")\n",
    "            comentario={\"comentário\":comment,\"autor\":autorComment}\n",
    "            comentarios.append(comentario)\n",
    "    novopost={\"id\":idnovo,\"conteudo\":conteudo,\"autor\":autor,\"dataCriacao\":dataCriacao,\"comentarios\":comentarios}\n",
    "    redeSocial.append(novopost)\n",
    "insPost(MyFaceBook,input(\"Escreva o conteúdo do seu post...\"),input(\"Escreva o nome do autor...\"),input(\"Insira a data do post no seguinte formato: AAAA-MM-DD\"),\"comentarios\")\n",
    "print(MyFaceBook)\n"
   ]
  },
  {
   "cell_type": "markdown",
   "id": "65061d0a",
   "metadata": {},
   "source": [
    "#### e)  `remPost`, que remove um post da rede, correspondente ao `id` recebido."
   ]
  },
  {
   "cell_type": "code",
   "execution_count": 21,
   "id": "dc1adabc",
   "metadata": {},
   "outputs": [],
   "source": [
    "def remPost(redeSocial, id):\n",
    "    post={}\n",
    "    ident=f\"p{id}\"\n",
    "    \n",
    "    for posts in redeSocial:\n",
    "        if posts[\"id\"]==ident:\n",
    "            post=posts\n",
    "    data=post[\"dataCriacao\"]\n",
    "    conteudo=post[\"conteudo\"]\n",
    "    if input(f\"Tem a certeza que quer apagar este post? Conteúdo: {conteudo}, Data: {data}\\nPara confirmar digite 'Sim'.\")==\"Sim\":\n",
    "        del redeSocial[id-1]\n",
    "    return \n",
    "remPost(MyFaceBook,2)\n"
   ]
  },
  {
   "cell_type": "markdown",
   "id": "de46a635",
   "metadata": {},
   "source": [
    "#### f) `postsPorAutor`, que devolve uma distribuição de posts por autor (à semelhança do que foi feito nas aulas)."
   ]
  },
  {
   "cell_type": "code",
   "execution_count": 22,
   "id": "4118730d",
   "metadata": {},
   "outputs": [
    {
     "ename": "ModuleNotFoundError",
     "evalue": "No module named 'matplotlib'",
     "output_type": "error",
     "traceback": [
      "\u001b[1;31m---------------------------------------------------------------------------\u001b[0m",
      "\u001b[1;31mModuleNotFoundError\u001b[0m                       Traceback (most recent call last)",
      "\u001b[1;32mc:\\Users\\jessi\\AppData\\Local\\Temp\\f2da0bc9-b8b6-4be8-bfc6-10bddc97a2c2_AulaP8-20231030.ipynb (1).zip.2c2\\AulaP8-20231030.ipynb Cell 35\u001b[0m line \u001b[0;36m2\n\u001b[0;32m     <a href='vscode-notebook-cell:/c%3A/Users/jessi/AppData/Local/Temp/f2da0bc9-b8b6-4be8-bfc6-10bddc97a2c2_AulaP8-20231030.ipynb%20%281%29.zip.2c2/AulaP8-20231030.ipynb#X45sZmlsZQ%3D%3D?line=23'>24</a>\u001b[0m     plt\u001b[39m.\u001b[39mshow()\n\u001b[0;32m     <a href='vscode-notebook-cell:/c%3A/Users/jessi/AppData/Local/Temp/f2da0bc9-b8b6-4be8-bfc6-10bddc97a2c2_AulaP8-20231030.ipynb%20%281%29.zip.2c2/AulaP8-20231030.ipynb#X45sZmlsZQ%3D%3D?line=25'>26</a>\u001b[0m     \u001b[39mreturn\u001b[39;00m \n\u001b[1;32m---> <a href='vscode-notebook-cell:/c%3A/Users/jessi/AppData/Local/Temp/f2da0bc9-b8b6-4be8-bfc6-10bddc97a2c2_AulaP8-20231030.ipynb%20%281%29.zip.2c2/AulaP8-20231030.ipynb#X45sZmlsZQ%3D%3D?line=26'>27</a>\u001b[0m postsPorAutor(MyFaceBook)\n",
      "\u001b[1;32mc:\\Users\\jessi\\AppData\\Local\\Temp\\f2da0bc9-b8b6-4be8-bfc6-10bddc97a2c2_AulaP8-20231030.ipynb (1).zip.2c2\\AulaP8-20231030.ipynb Cell 35\u001b[0m line \u001b[0;36m3\n\u001b[0;32m      <a href='vscode-notebook-cell:/c%3A/Users/jessi/AppData/Local/Temp/f2da0bc9-b8b6-4be8-bfc6-10bddc97a2c2_AulaP8-20231030.ipynb%20%281%29.zip.2c2/AulaP8-20231030.ipynb#X45sZmlsZQ%3D%3D?line=0'>1</a>\u001b[0m \u001b[39mdef\u001b[39;00m \u001b[39mpostsPorAutor\u001b[39m(redeSocial):\n\u001b[0;32m      <a href='vscode-notebook-cell:/c%3A/Users/jessi/AppData/Local/Temp/f2da0bc9-b8b6-4be8-bfc6-10bddc97a2c2_AulaP8-20231030.ipynb%20%281%29.zip.2c2/AulaP8-20231030.ipynb#X45sZmlsZQ%3D%3D?line=1'>2</a>\u001b[0m     autores\u001b[39m=\u001b[39m[]\n\u001b[1;32m----> <a href='vscode-notebook-cell:/c%3A/Users/jessi/AppData/Local/Temp/f2da0bc9-b8b6-4be8-bfc6-10bddc97a2c2_AulaP8-20231030.ipynb%20%281%29.zip.2c2/AulaP8-20231030.ipynb#X45sZmlsZQ%3D%3D?line=2'>3</a>\u001b[0m     \u001b[39mimport\u001b[39;00m \u001b[39mmatplotlib\u001b[39;00m\u001b[39m.\u001b[39;00m\u001b[39mpyplot\u001b[39;00m \u001b[39mas\u001b[39;00m \u001b[39mplt\u001b[39;00m\n\u001b[0;32m      <a href='vscode-notebook-cell:/c%3A/Users/jessi/AppData/Local/Temp/f2da0bc9-b8b6-4be8-bfc6-10bddc97a2c2_AulaP8-20231030.ipynb%20%281%29.zip.2c2/AulaP8-20231030.ipynb#X45sZmlsZQ%3D%3D?line=3'>4</a>\u001b[0m     \u001b[39mfor\u001b[39;00m post \u001b[39min\u001b[39;00m redeSocial:\n\u001b[0;32m      <a href='vscode-notebook-cell:/c%3A/Users/jessi/AppData/Local/Temp/f2da0bc9-b8b6-4be8-bfc6-10bddc97a2c2_AulaP8-20231030.ipynb%20%281%29.zip.2c2/AulaP8-20231030.ipynb#X45sZmlsZQ%3D%3D?line=4'>5</a>\u001b[0m         autores\u001b[39m.\u001b[39mappend(post[\u001b[39m\"\u001b[39m\u001b[39mautor\u001b[39m\u001b[39m\"\u001b[39m])\n",
      "\u001b[1;31mModuleNotFoundError\u001b[0m: No module named 'matplotlib'"
     ]
    }
   ],
   "source": [
    "def postsPorAutor(redeSocial):\n",
    "    autores=[]\n",
    "    import matplotlib.pyplot as plt\n",
    "    for post in redeSocial:\n",
    "        autores.append(post[\"autor\"])\n",
    "    \n",
    "\n",
    "    dic_autores = {}\n",
    "    for autor in autores:\n",
    "        if autor in dic_autores:\n",
    "            dic_autores[autor] += 1\n",
    "        else:\n",
    "            dic_autores[autor] = 1\n",
    "\n",
    "    xValores =list(dic_autores.keys())\n",
    "    yValores = list(dic_autores.values())\n",
    "\n",
    "    plt.bar(xValores, yValores, color='skyblue')\n",
    "\n",
    "    plt.xlabel(\"autores\")\n",
    "    \n",
    "    plt.title(\"distribuição de posts por autor\")\n",
    "\n",
    "    plt.show()\n",
    "\n",
    "    return \n",
    "postsPorAutor(MyFaceBook)"
   ]
  },
  {
   "cell_type": "markdown",
   "id": "5b1d7d7a",
   "metadata": {},
   "source": [
    "#### g) `comentadoPor`, que recebe um autor e devolve a lista de posts comentados por esse autor."
   ]
  },
  {
   "cell_type": "code",
   "execution_count": 23,
   "id": "a91f2619",
   "metadata": {},
   "outputs": [
    {
     "data": {
      "text/plain": [
       "[]"
      ]
     },
     "execution_count": 23,
     "metadata": {},
     "output_type": "execute_result"
    }
   ],
   "source": [
    "def comentadoPor(redeSocial, autor):\n",
    "    lista=[]\n",
    "    for posts in redeSocial:\n",
    "        if \"comentarios\" in posts:\n",
    "        \n",
    "            for comentario in posts[\"comentarios\"]:\n",
    "                if comentario[\"autor\"]==f\"{autor}\":\n",
    "                    lista.append(posts)\n",
    "    # ... \n",
    "    return lista\n",
    "comentadoPor(MyFaceBook,\"jessica\")"
   ]
  }
 ],
 "metadata": {
  "kernelspec": {
   "display_name": "Python 3.9.1 64-bit",
   "language": "python",
   "name": "python3"
  },
  "language_info": {
   "codemirror_mode": {
    "name": "ipython",
    "version": 3
   },
   "file_extension": ".py",
   "mimetype": "text/x-python",
   "name": "python",
   "nbconvert_exporter": "python",
   "pygments_lexer": "ipython3",
   "version": "3.11.5"
  },
  "vscode": {
   "interpreter": {
    "hash": "aee8b7b246df8f9039afb4144a1f6fd8d2ca17a180786b69acc140d282b71a49"
   }
  }
 },
 "nbformat": 4,
 "nbformat_minor": 5
}
